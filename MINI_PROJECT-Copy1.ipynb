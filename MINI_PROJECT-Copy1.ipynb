{
 "cells": [
  {
   "cell_type": "code",
   "execution_count": null,
   "id": "09124dd7",
   "metadata": {},
   "outputs": [],
   "source": [
    "import pandas as pd\n",
    "import numpy as np\n",
    "from matplotlib import pyplot as plt\n",
    "from sklearn.model_selection import train_test_split\n",
    "from tensorflow import keras\n",
    "import seaborn as sns\n",
    "from sklearn.metrics import classification_report\n",
    "from sklearn.metrics import confusion_matrix\n"
   ]
  },
  {
   "cell_type": "code",
   "execution_count": null,
   "id": "36a964c7",
   "metadata": {},
   "outputs": [],
   "source": [
    "data = pd.read_csv('/content/dataset_phishing.csv')\n",
    "\n",
    "data['status'] = data['status'].replace('legitimate', 1)\n",
    "data['status'] = data['status'].replace('phishing', 0)\n",
    "X = data.drop(['url', 'status'], axis = 1).astype(int)\n",
    "Y = data['status'].astype(int)\n",
    "X_train, X_test, Y_train, Y_test = train_test_split(X, Y, test_size=0.3, random_state = 42)\n"
   ]
  },
  {
   "cell_type": "code",
   "execution_count": null,
   "id": "4a249350",
   "metadata": {},
   "outputs": [],
   "source": [
    "model = keras.Sequential([\n",
    "    keras.layers.Conv1D(filters=64, input_shape=(87,1), kernel_size=2, activation='relu'),\n",
    "    keras.layers.MaxPooling1D(pool_size=2),\n",
    "\n",
    "    keras.layers.LSTM(100),\n",
    "    keras.layers.Flatten(),\n",
    "    keras.layers.Dense(64, activation = 'sigmoid'),\n",
    "    keras.layers.Dense(512, activation='sigmoid'),\n",
    "    keras.layers.Dense(64, activation = 'sigmoid'),\n",
    "    keras.layers.Dense(2, activation='sigmoid'),\n",
    "])\n"
   ]
  },
  {
   "cell_type": "code",
   "execution_count": null,
   "id": "aad8ffed",
   "metadata": {},
   "outputs": [],
   "source": [
    "model.compile(optimizer='adam', loss='sparse_categorical_crossentropy', metrics=['accuracy'])\n",
    "history = model.fit(X_train, Y_train, epochs=100)\n",
    "\n",
    "Y_pred = model.predict(X_train)\n"
   ]
  },
  {
   "cell_type": "code",
   "execution_count": null,
   "id": "6d8398c6",
   "metadata": {},
   "outputs": [],
   "source": [
    "cnt = 0\n",
    "for i in range(len(Y_pred)):\n",
    "    if(np.argmax(Y_pred[i]) != np.array(Y_train)[i]):\n",
    "      cnt = cnt + 1\n",
    "print(cnt)\n",
    "test_loss, test_accuracy = model.evaluate(X_test, Y_test)\n",
    "print(test_accuracy)\n",
    "\n"
   ]
  },
  {
   "cell_type": "code",
   "execution_count": null,
   "id": "4debe333",
   "metadata": {},
   "outputs": [],
   "source": [
    "Y_pred = model.predict(X_test)\n",
    "Y_pred_classes = np.argmax(Y_pred, axis=1)\n",
    "\n",
    "report = classification_report(Y_test, Y_pred_classes)\n",
    "print(report)\n",
    "\n"
   ]
  },
  {
   "cell_type": "code",
   "execution_count": null,
   "id": "64d417f6",
   "metadata": {},
   "outputs": [],
   "source": [
    "cm = confusion_matrix(Y_test, Y_pred_classes)\n",
    "fig, ax = plt.subplots()\n",
    "\n"
   ]
  },
  {
   "cell_type": "code",
   "execution_count": null,
   "id": "016469fd",
   "metadata": {},
   "outputs": [],
   "source": [
    "sns.heatmap(cm, annot=True, cmap='Blues', ax=ax)\n",
    "\n",
    "fpr, tpr, thresholds = roc_curve(Y_test, Y_pred_classes)\n",
    "auc = roc_auc_score(Y_test, Y_pred_classes)\n",
    "\n"
   ]
  },
  {
   "cell_type": "code",
   "execution_count": null,
   "id": "638785a1",
   "metadata": {},
   "outputs": [],
   "source": [
    "plt.plot(fpr, tpr, label=f'AUC = {auc:.2f}')\n",
    "plt.plot([0, 1], [0, 1], 'k:')\n",
    "plt.title('Receiver Operating Characteristic (ROC) Curve')\n",
    "plt.xlabel('False Positive Rate')\n",
    "plt.ylabel('True Positive Rate')\n",
    "plt.legend()\n",
    "plt.show()"
   ]
  }
 ],
 "metadata": {
  "kernelspec": {
   "display_name": "Python 3",
   "language": "python",
   "name": "python3"
  },
  "language_info": {
   "codemirror_mode": {
    "name": "ipython",
    "version": 3
   },
   "file_extension": ".py",
   "mimetype": "text/x-python",
   "name": "python",
   "nbconvert_exporter": "python",
   "pygments_lexer": "ipython3",
   "version": "3.9.4"
  }
 },
 "nbformat": 4,
 "nbformat_minor": 5
}
